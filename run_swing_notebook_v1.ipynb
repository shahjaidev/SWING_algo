{
 "cells": [
  {
   "cell_type": "code",
   "execution_count": 1,
   "metadata": {},
   "outputs": [
    {
     "name": "stderr",
     "output_type": "stream",
     "text": [
      "/home/core/miniconda3/envs/simplex_new_env/lib/python3.7/site-packages/tqdm/auto.py:22: TqdmWarning: IProgress not found. Please update jupyter and ipywidgets. See https://ipywidgets.readthedocs.io/en/stable/user_install.html\n",
      "  from .autonotebook import tqdm as notebook_tqdm\n",
      "Failure while loading azureml_run_type_providers. Failed to load entrypoint azureml.scriptrun = azureml.core.script_run:ScriptRun._from_run_dto with exception (pyOpenSSL 22.0.0 (/home/core/miniconda3/envs/simplex_new_env/lib/python3.7/site-packages), Requirement.parse('pyopenssl<21.0.0')).\n"
     ]
    }
   ],
   "source": [
    "import logging\n",
    "import math\n",
    "import os\n",
    "import sys\n",
    "from collections import defaultdict\n",
    "\n",
    "import numpy as np\n",
    "import torch\n",
    "from scipy.sparse import coo_matrix, csr_matrix\n",
    "\n",
    "from util_vCF.helper import (\n",
    "    add_and_fit,\n",
    "    load_npy_ckpt,\n",
    "    load_target_items,\n",
    "    load_test_data,\n",
    "    load_train_data_with_coo,\n",
    "    log_config_file,\n",
    "    prepare_test_complementary,\n",
    "    save_ckpt,\n",
    "    save_ckpt_pytorch,\n",
    "    save_model_opt_state_dict,\n",
    "    save_compressed,\n",
    "    str2bool,\n",
    "    train_wrap,\n",
    ")"
   ]
  },
  {
   "cell_type": "code",
   "execution_count": 2,
   "metadata": {},
   "outputs": [],
   "source": [
    "#sys.path.insert(0, os.path.abspath(os.path.join(os.path.dirname(__file__), \"..\")))\n",
    "from util.args import init_arguments  # noqa: E402\n",
    "from util.evaluation import evaluate  # noqa: E402\n",
    "from util.helper import (  # noqa: E402\n",
    "    get_logger_dir,\n",
    "    get_max_item_index_to_save,\n",
    "    load_train_data,\n",
    "    load_train_data_weighted_by_time,\n",
    "    train_wrap,\n",
    ")\n",
    "from util.logger import setup_logger  # noqa: E402\n",
    "from util.metrics import matrix_query  # noqa: E402"
   ]
  },
  {
   "cell_type": "code",
   "execution_count": 3,
   "metadata": {},
   "outputs": [],
   "source": [
    "logger = logging.getLogger(__name__)"
   ]
  },
  {
   "cell_type": "code",
   "execution_count": 4,
   "metadata": {},
   "outputs": [],
   "source": [
    "def get_swing_i2imatrix_csr(train_user_item_csr, alpha=0.001):\n",
    "\n",
    "    num_users, num_items = train_user_item_csr.shape\n",
    "    weight = np.zeros(num_users)\n",
    "    items = defaultdict(set)\n",
    "    users = defaultdict(list)\n",
    "\n",
    "    train_user_item_coo = train_user_item_csr.tocoo()\n",
    "    num_data = len(train_user_item_coo.data)\n",
    "    for n in range(num_data):\n",
    "        items[train_user_item_coo.row[n]].add(train_user_item_coo.col[n])\n",
    "        users[train_user_item_coo.col[n]].append(train_user_item_coo.row[n])\n",
    "\n",
    "    for u in range(num_users):\n",
    "        weight[u] = 1 / math.sqrt(len(items[u]))\n",
    "\n",
    "    swing_dict = defaultdict(int)\n",
    "    for i in range(num_items):\n",
    "        for p, u in enumerate(users[i]):\n",
    "            for v in users[i][p + 1 :]:\n",
    "                common_items_uv = list(items[u] & items[v])\n",
    "                k = len(common_items_uv)\n",
    "                for j in common_items_uv:\n",
    "                    swing = weight[u] * weight[v] * 1 / (alpha + k)\n",
    "                    swing_dict[i, j] += swing\n",
    "                    swing_dict[j, i] += swing\n",
    "    keys = list(swing_dict.keys())\n",
    "    rows, cols = list(zip(*keys))\n",
    "    data = list(swing_dict.values())\n",
    "    swing_i2imatrix_csr = csr_matrix((data, (rows, cols)), shape=(num_items, num_items))\n",
    "\n",
    "    return swing_i2imatrix_csr"
   ]
  },
  {
   "cell_type": "code",
   "execution_count": 5,
   "metadata": {},
   "outputs": [],
   "source": [
    "#args = init_arguments()\n",
    "\n",
    "args= {}\n",
    "\n",
    "args['input_path'] =  '/home/core/shahjaidev/my_data/3d_train_csv'\n",
    "args['input_delimiter'] = ','\n",
    "args['rating_scale'] = 1.0\n",
    "args['rating_offset'] = 0.0\n",
    "args['weight_choice'] = 'ctr'"
   ]
  },
  {
   "cell_type": "code",
   "execution_count": 6,
   "metadata": {},
   "outputs": [],
   "source": [
    "\n",
    "#train_user_item_csr, _, _, _, _, _ = load_train_data(args, input_path_3d_train, input_delimiter, logger_in=logger)\n",
    "\n",
    "train_user_item_coo, train_user_item_csr, train_df, item_number, idfs, item_sums, _ = load_train_data_with_coo(\n",
    "        args['input_path'], args['input_delimiter'], args['rating_scale'], args['rating_offset'], args['weight_choice']\n",
    "    )\n"
   ]
  },
  {
   "cell_type": "code",
   "execution_count": 13,
   "metadata": {},
   "outputs": [
    {
     "name": "stdout",
     "output_type": "stream",
     "text": [
      "0 items processed\n",
      "1000000 items processed\n",
      "2000000 items processed\n",
      "3000000 items processed\n",
      "4000000 items processed\n",
      "5000000 items processed\n",
      "6000000 items processed\n",
      "7000000 items processed\n",
      "8000000 items processed\n",
      "9000000 items processed\n",
      "10000000 items processed\n",
      "11000000 items processed\n",
      "12000000 items processed\n",
      "13000000 items processed\n",
      "14000000 items processed\n",
      "15000000 items processed\n",
      "16000000 items processed\n",
      "17000000 items processed\n",
      "18000000 items processed\n",
      "19000000 items processed\n",
      "20000000 items processed\n",
      "21000000 items processed\n",
      "22000000 items processed\n",
      "23000000 items processed\n",
      "24000000 items processed\n",
      "25000000 items processed\n",
      "26000000 items processed\n",
      "27000000 items processed\n",
      "28000000 items processed\n",
      "29000000 items processed\n",
      "30000000 items processed\n",
      "31000000 items processed\n",
      "32000000 items processed\n",
      "33000000 items processed\n",
      "34000000 items processed\n",
      "35000000 items processed\n",
      "36000000 items processed\n",
      "37000000 items processed\n",
      "creation of items and users dict done\n"
     ]
    }
   ],
   "source": [
    "num_users, num_items = train_user_item_csr.shape\n",
    "weight = np.zeros(num_users)\n",
    "items = defaultdict(set)\n",
    "users = defaultdict(list)\n",
    "\n",
    "train_user_item_coo = train_user_item_csr.tocoo()\n",
    "num_data = len(train_user_item_coo.data)\n",
    "for n in range(num_data):\n",
    "    if n%1000000 ==0:\n",
    "        print(f\"{n} items processed\")\n",
    "    items[train_user_item_coo.row[n]].add(train_user_item_coo.col[n])\n",
    "    users[train_user_item_coo.col[n]].append(train_user_item_coo.row[n])\n",
    "print(\"creation of items and users dict done\")\n"
   ]
  },
  {
   "cell_type": "code",
   "execution_count": 15,
   "metadata": {},
   "outputs": [],
   "source": [
    "def get_swing_i2imatrix_csr(users, items, train_user_item_csr, alpha=0.001):\n",
    "    num_users, num_items = train_user_item_csr.shape\n",
    "    weight = np.zeros(num_users)\n",
    "    \n",
    "    for u in range(num_users):\n",
    "        weight[u] = 1 / math.sqrt(len(items[u]))\n",
    "\n",
    "    swing_dict = defaultdict(int)\n",
    "    for i in range(num_items):\n",
    "        if i%10000 ==0:\n",
    "            print(f\"{i} items processed\")\n",
    "\n",
    "        for p, u in enumerate(users[i]):\n",
    "            for v in users[i][p + 1 :]:\n",
    "                common_items_uv = list(items[u] & items[v])\n",
    "                k = len(common_items_uv)\n",
    "                for j in common_items_uv:\n",
    "                    swing = weight[u] * weight[v] * 1 / (alpha + k)\n",
    "                    swing_dict[i, j] += swing\n",
    "                    swing_dict[j, i] += swing\n",
    "    keys = list(swing_dict.keys())\n",
    "    rows, cols = list(zip(*keys))\n",
    "    data = list(swing_dict.values())\n",
    "    swing_i2imatrix_csr = csr_matrix((data, (rows, cols)), shape=(num_items, num_items))\n",
    "\n",
    "    return swing_i2imatrix_csr"
   ]
  },
  {
   "cell_type": "code",
   "execution_count": 16,
   "metadata": {},
   "outputs": [
    {
     "name": "stdout",
     "output_type": "stream",
     "text": [
      "0 items processed\n",
      "10000 items processed\n",
      "20000 items processed\n",
      "30000 items processed\n",
      "40000 items processed\n",
      "50000 items processed\n",
      "60000 items processed\n",
      "70000 items processed\n",
      "80000 items processed\n",
      "90000 items processed\n"
     ]
    }
   ],
   "source": [
    "res_swing_dict = get_swing_i2imatrix_csr(users, items, train_user_item_csr, alpha=0.001)"
   ]
  },
  {
   "cell_type": "code",
   "execution_count": 14,
   "metadata": {},
   "outputs": [
    {
     "data": {
      "text/plain": [
       "'def get_swing_i2imatrix_csr(train_user_item_csr, alpha=0.001):\\n\\n    num_users, num_items = train_user_item_csr.shape\\n    weight = np.zeros(num_users)\\n    items = defaultdict(set)\\n    users = defaultdict(list)\\n\\n    train_user_item_coo = train_user_item_csr.tocoo()\\n    num_data = len(train_user_item_coo.data)\\n    for n in range(num_data):\\n        items[train_user_item_coo.row[n]].add(train_user_item_coo.col[n])\\n        users[train_user_item_coo.col[n]].append(train_user_item_coo.row[n])\\n    print(\"creation of items and users dict done\")\\n\\n    for u in range(num_users):\\n        weight[u] = 1 / math.sqrt(len(items[u]))\\n\\n    swing_dict = defaultdict(int)\\n    for i in range(num_items):\\n        if i%10000 ==0:\\n            print(f\"{i} items processed\")\\n\\n        for p, u in enumerate(users[i]):\\n            for v in users[i][p + 1 :]:\\n                common_items_uv = list(items[u] & items[v])\\n                k = len(common_items_uv)\\n                for j in common_items_uv:\\n                    swing = weight[u] * weight[v] * 1 / (alpha + k)\\n                    swing_dict[i, j] += swing\\n                    swing_dict[j, i] += swing\\n    keys = list(swing_dict.keys())\\n    rows, cols = list(zip(*keys))\\n    data = list(swing_dict.values())\\n    swing_i2imatrix_csr = csr_matrix((data, (rows, cols)), shape=(num_items, num_items))\\n\\n    return swing_i2imatrix_csr'"
      ]
     },
     "execution_count": 14,
     "metadata": {},
     "output_type": "execute_result"
    }
   ],
   "source": [
    "\"\"\"def get_swing_i2imatrix_csr(train_user_item_csr, alpha=0.001):\n",
    "\n",
    "    num_users, num_items = train_user_item_csr.shape\n",
    "    weight = np.zeros(num_users)\n",
    "    items = defaultdict(set)\n",
    "    users = defaultdict(list)\n",
    "\n",
    "    train_user_item_coo = train_user_item_csr.tocoo()\n",
    "    num_data = len(train_user_item_coo.data)\n",
    "    for n in range(num_data):\n",
    "        items[train_user_item_coo.row[n]].add(train_user_item_coo.col[n])\n",
    "        users[train_user_item_coo.col[n]].append(train_user_item_coo.row[n])\n",
    "    print(\"creation of items and users dict done\")\n",
    "\n",
    "    for u in range(num_users):\n",
    "        weight[u] = 1 / math.sqrt(len(items[u]))\n",
    "\n",
    "    swing_dict = defaultdict(int)\n",
    "    for i in range(num_items):\n",
    "        if i%10000 ==0:\n",
    "            print(f\"{i} items processed\")\n",
    "\n",
    "        for p, u in enumerate(users[i]):\n",
    "            for v in users[i][p + 1 :]:\n",
    "                common_items_uv = list(items[u] & items[v])\n",
    "                k = len(common_items_uv)\n",
    "                for j in common_items_uv:\n",
    "                    swing = weight[u] * weight[v] * 1 / (alpha + k)\n",
    "                    swing_dict[i, j] += swing\n",
    "                    swing_dict[j, i] += swing\n",
    "    keys = list(swing_dict.keys())\n",
    "    rows, cols = list(zip(*keys))\n",
    "    data = list(swing_dict.values())\n",
    "    swing_i2imatrix_csr = csr_matrix((data, (rows, cols)), shape=(num_items, num_items))\n",
    "\n",
    "    return swing_i2imatrix_csr\"\"\""
   ]
  },
  {
   "cell_type": "code",
   "execution_count": 8,
   "metadata": {},
   "outputs": [
    {
     "ename": "KeyboardInterrupt",
     "evalue": "",
     "output_type": "error",
     "traceback": [
      "\u001b[0;31m---------------------------------------------------------------------------\u001b[0m",
      "\u001b[0;31mKeyboardInterrupt\u001b[0m                         Traceback (most recent call last)",
      "\u001b[0;32m/tmp/ipykernel_3355989/1203249027.py\u001b[0m in \u001b[0;36m<module>\u001b[0;34m\u001b[0m\n\u001b[0;32m----> 1\u001b[0;31m \u001b[0mswing_scores_i2i_matrix\u001b[0m \u001b[0;34m=\u001b[0m \u001b[0mget_swing_i2imatrix_csr\u001b[0m\u001b[0;34m(\u001b[0m\u001b[0mtrain_user_item_csr\u001b[0m\u001b[0;34m)\u001b[0m\u001b[0;34m\u001b[0m\u001b[0;34m\u001b[0m\u001b[0m\n\u001b[0m",
      "\u001b[0;32m/tmp/ipykernel_3355989/1937302590.py\u001b[0m in \u001b[0;36mget_swing_i2imatrix_csr\u001b[0;34m(train_user_item_csr, alpha)\u001b[0m\n\u001b[1;32m     10\u001b[0m     \u001b[0;32mfor\u001b[0m \u001b[0mn\u001b[0m \u001b[0;32min\u001b[0m \u001b[0mrange\u001b[0m\u001b[0;34m(\u001b[0m\u001b[0mnum_data\u001b[0m\u001b[0;34m)\u001b[0m\u001b[0;34m:\u001b[0m\u001b[0;34m\u001b[0m\u001b[0;34m\u001b[0m\u001b[0m\n\u001b[1;32m     11\u001b[0m         \u001b[0mitems\u001b[0m\u001b[0;34m[\u001b[0m\u001b[0mtrain_user_item_coo\u001b[0m\u001b[0;34m.\u001b[0m\u001b[0mrow\u001b[0m\u001b[0;34m[\u001b[0m\u001b[0mn\u001b[0m\u001b[0;34m]\u001b[0m\u001b[0;34m]\u001b[0m\u001b[0;34m.\u001b[0m\u001b[0madd\u001b[0m\u001b[0;34m(\u001b[0m\u001b[0mtrain_user_item_coo\u001b[0m\u001b[0;34m.\u001b[0m\u001b[0mcol\u001b[0m\u001b[0;34m[\u001b[0m\u001b[0mn\u001b[0m\u001b[0;34m]\u001b[0m\u001b[0;34m)\u001b[0m\u001b[0;34m\u001b[0m\u001b[0;34m\u001b[0m\u001b[0m\n\u001b[0;32m---> 12\u001b[0;31m         \u001b[0musers\u001b[0m\u001b[0;34m[\u001b[0m\u001b[0mtrain_user_item_coo\u001b[0m\u001b[0;34m.\u001b[0m\u001b[0mcol\u001b[0m\u001b[0;34m[\u001b[0m\u001b[0mn\u001b[0m\u001b[0;34m]\u001b[0m\u001b[0;34m]\u001b[0m\u001b[0;34m.\u001b[0m\u001b[0mappend\u001b[0m\u001b[0;34m(\u001b[0m\u001b[0mtrain_user_item_coo\u001b[0m\u001b[0;34m.\u001b[0m\u001b[0mrow\u001b[0m\u001b[0;34m[\u001b[0m\u001b[0mn\u001b[0m\u001b[0;34m]\u001b[0m\u001b[0;34m)\u001b[0m\u001b[0;34m\u001b[0m\u001b[0;34m\u001b[0m\u001b[0m\n\u001b[0m\u001b[1;32m     13\u001b[0m     \u001b[0mprint\u001b[0m\u001b[0;34m(\u001b[0m\u001b[0;34m\"creation of items and users dict done\"\u001b[0m\u001b[0;34m)\u001b[0m\u001b[0;34m\u001b[0m\u001b[0;34m\u001b[0m\u001b[0m\n\u001b[1;32m     14\u001b[0m \u001b[0;34m\u001b[0m\u001b[0m\n",
      "\u001b[0;31mKeyboardInterrupt\u001b[0m: "
     ]
    }
   ],
   "source": [
    "swing_scores_i2i_matrix = get_swing_i2imatrix_csr(train_user_item_csr)"
   ]
  },
  {
   "cell_type": "code",
   "execution_count": null,
   "metadata": {},
   "outputs": [],
   "source": [
    "print(\"done\")"
   ]
  },
  {
   "cell_type": "code",
   "execution_count": null,
   "metadata": {},
   "outputs": [],
   "source": []
  }
 ],
 "metadata": {
  "kernelspec": {
   "display_name": "Python 3.7.13 ('simplex_new_env')",
   "language": "python",
   "name": "python3"
  },
  "language_info": {
   "codemirror_mode": {
    "name": "ipython",
    "version": 3
   },
   "file_extension": ".py",
   "mimetype": "text/x-python",
   "name": "python",
   "nbconvert_exporter": "python",
   "pygments_lexer": "ipython3",
   "version": "3.7.13"
  },
  "orig_nbformat": 4,
  "vscode": {
   "interpreter": {
    "hash": "3ce08f4de8c2f760f9c45cbb81c50dbfe06ea08eef22a923656c1b4493a6c661"
   }
  }
 },
 "nbformat": 4,
 "nbformat_minor": 2
}
