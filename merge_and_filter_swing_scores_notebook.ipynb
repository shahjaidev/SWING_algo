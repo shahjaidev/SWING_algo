{
 "cells": [
  {
   "cell_type": "code",
   "execution_count": 1,
   "metadata": {},
   "outputs": [],
   "source": [
    "import pandas as pd\n",
    "import numpy as np\n",
    "import matplotlib.pyplot as plt\n",
    "import pickle\n",
    "from collections import Counter\n",
    "import networkx as nx "
   ]
  },
  {
   "cell_type": "code",
   "execution_count": 2,
   "metadata": {},
   "outputs": [],
   "source": [
    "TRAIN_3D_PATH = '/home/core/shahjaidev/my_data/3d_train_csv'\n",
    "TEST_3d_PATH = '/home/core/shahjaidev/my_data/3d_test'\n",
    "\n",
    "UID_3D_PATH = '/home/core/shahjaidev/my_data/3d_uid.tsv'\n",
    "\n",
    "FBV_TSV_PATH= '/home/core/shahjaidev/my_data/FBV/3d_FBV_data.tsv'\n",
    "\n",
    "URL_TO_LANGUAGE_TSV_PATH= '/home/core/shahjaidev/my_data/retroindex/3d_train_url_to_language_country_mapping.tsv'"
   ]
  },
  {
   "cell_type": "code",
   "execution_count": 3,
   "metadata": {},
   "outputs": [],
   "source": [
    "SWING_SCORES_0_to_2M_PICKLE_PATH = '/home/core/shahjaidev/SWING/3d_swing_latest/3d_swing_0_to_2M_i2i_dict_pickle'\n",
    "SWING_SCORES_2M_to_4M_PICKLE_PATH = '/home/core/shahjaidev/SWING/3d_swing_latest/3d_swing_2M_to_4M_i2i_dict_pickle'\n",
    "SWING_SCORES_4M_to_6M_PICKLE_PATH = '/home/core/shahjaidev/SWING/3d_swing_latest/3d_swing_4M_to_6M_i2i_dict_pickle'\n",
    "SWING_SCORES_6M_to_8M_PICKLE_PATH = '/home/core/shahjaidev/SWING/3d_swing_latest/3d_swing_6M_to_end_i2i_dict_pickle'\n",
    "\n"
   ]
  },
  {
   "cell_type": "code",
   "execution_count": 5,
   "metadata": {},
   "outputs": [],
   "source": [
    "def read_test_set(PATH):\n",
    "    df = pd.read_csv(PATH, sep=',', header=None)\n",
    "    df.columns = ['uid', 'tid']\n",
    "    return df\n",
    "\n",
    "def read_train_set(PATH):\n",
    "    df = pd.read_csv(PATH, sep=',', header=None)\n",
    "    df.columns = ['uid', 'tid', 'weight']\n",
    "    return df\n",
    "\n",
    "def read_uid_set(PATH):\n",
    "    df = pd.read_csv(PATH, sep='\\t', header=None)\n",
    "    df.columns = ['uid', 'url']\n",
    "    return df\n",
    "\n",
    "def read_url_to_language_df(PATH):\n",
    "    df = pd.read_csv(PATH, sep='\\t', header=None)\n",
    "    df.columns = ['url', 'language', 'country']\n",
    "    return df\n",
    "\n",
    "train_set_df= read_train_set(TRAIN_3D_PATH)\n",
    "test_set_df= read_test_set(TEST_3d_PATH)\n",
    "uid_df= read_uid_set(UID_3D_PATH)\n",
    "url_to_language_df= read_url_to_language_df(URL_TO_LANGUAGE_TSV_PATH)\n",
    "\n",
    "\n"
   ]
  },
  {
   "cell_type": "markdown",
   "metadata": {},
   "source": [
    "### Create NetworkX Graph, obtain uid to degree mapping"
   ]
  },
  {
   "cell_type": "code",
   "execution_count": 14,
   "metadata": {},
   "outputs": [
    {
     "name": "stdout",
     "output_type": "stream",
     "text": [
      "Creating NetworkX Graph\n",
      "NetworkX Graph created successfully\n"
     ]
    }
   ],
   "source": [
    "print(\"Creating NetworkX Graph\")\n",
    "G = nx.from_pandas_edgelist(train_set_df, 'uid', 'tid', edge_attr='weight')\n",
    "print(\"NetworkX Graph created successfully\")"
   ]
  },
  {
   "cell_type": "code",
   "execution_count": 15,
   "metadata": {},
   "outputs": [],
   "source": [
    "uid_to_degree_dict = dict(G.degree())"
   ]
  },
  {
   "cell_type": "code",
   "execution_count": 16,
   "metadata": {},
   "outputs": [],
   "source": [
    "uids, degrees = zip(*uid_to_degree_dict.items())"
   ]
  },
  {
   "cell_type": "code",
   "execution_count": 18,
   "metadata": {},
   "outputs": [],
   "source": [
    "uid_degree_df = pd.DataFrame({'uid': uids, 'degree': degrees})"
   ]
  },
  {
   "cell_type": "code",
   "execution_count": 10,
   "metadata": {},
   "outputs": [],
   "source": [
    "##Merge test_set_df and uid_df\n",
    "test_set_df_uid_merged = pd.merge(test_set_df, uid_df, on='uid')\n",
    "test_set_df_merged = pd.merge(test_set_df_uid_merged, uid_degree_df, left_on='tid', right_on='uid')"
   ]
  },
  {
   "cell_type": "code",
   "execution_count": null,
   "metadata": {},
   "outputs": [],
   "source": []
  },
  {
   "cell_type": "markdown",
   "metadata": {},
   "source": [
    "### Read all swing dict pickles, convert to Counter than add"
   ]
  },
  {
   "cell_type": "code",
   "execution_count": 6,
   "metadata": {},
   "outputs": [],
   "source": [
    "PATHS = [SWING_SCORES_0_to_2M_PICKLE_PATH] # SWING_SCORES_2M_to_5M_PICKLE_PATH, SWING_SCORES_5M_to_end_PICKLE_PATH]"
   ]
  },
  {
   "cell_type": "code",
   "execution_count": 7,
   "metadata": {},
   "outputs": [],
   "source": [
    "def read_swing_dict_pickles_and_add(PATHS):\n",
    "    final_counter_dict = Counter()\n",
    "    for path in PATHS:\n",
    "        #Read swing scores dict from pickle files\n",
    "        with open(path, 'rb') as f:\n",
    "            swing_dict = pick,le.load(f)\n",
    "        final_counter_dict = final_counter_dict + Counter(swing_dict)\n",
    "    return final_counter_dict"
   ]
  },
  {
   "cell_type": "code",
   "execution_count": 8,
   "metadata": {},
   "outputs": [],
   "source": [
    "swing_scores_0_to_2M_dict = read_swing_dict_pickles_and_add(PATHS)"
   ]
  },
  {
   "cell_type": "code",
   "execution_count": 9,
   "metadata": {},
   "outputs": [],
   "source": [
    "swing_scores_2M_to_4M_dict = read_swing_dict_pickles_and_add([SWING_SCORES_2M_to_4M_PICKLE_PATH])\n",
    "swing_scores_4M_to_6M_dict = read_swing_dict_pickles_and_add([SWING_SCORES_4M_to_6M_PICKLE_PATH])\n",
    "swing_scores_6M_to_8M_dict = read_swing_dict_pickles_and_add([SWING_SCORES_6M_to_8M_PICKLE_PATH])"
   ]
  },
  {
   "cell_type": "code",
   "execution_count": 10,
   "metadata": {},
   "outputs": [],
   "source": [
    "def get_swing_df(swing_dict):\n",
    "    uids, tids = zip(*swing_dict.keys())\n",
    "    scores = list(swing_dict.values())\n",
    "    swing_df = pd.DataFrame({'uid': uids, 'tid': tids, 'score': scores})\n",
    "    swing_df_filtered = swing_df[swing_df.uid != swing_df.tid]\n",
    "    return swing_df_filtered\n"
   ]
  },
  {
   "cell_type": "code",
   "execution_count": 11,
   "metadata": {},
   "outputs": [],
   "source": [
    "swing_scores_df_0_to_2M = get_swing_df(swing_scores_0_to_2M_dict)\n",
    "swing_scores_df_2M_to_4M = get_swing_df(swing_scores_2M_to_4M_dict)\n",
    "swing_scores_df_4M_to_6M = get_swing_df(swing_scores_4M_to_6M_dict)\n",
    "swing_scores_df_6M_to_8M = get_swing_df(swing_scores_6M_to_8M_dict)\n"
   ]
  },
  {
   "cell_type": "code",
   "execution_count": 12,
   "metadata": {},
   "outputs": [],
   "source": [
    "def apply_filters_swing_df(swing_df, uid_degree_df, SWING_SCORE_THRESHOLD, UID_DEGREE_THRESHOLD):\n",
    "        swing_df_score_filtered = swing_df[swing_df.score > SWING_SCORE_THRESHOLD]\n",
    "        uid_degree_df.columns= ['uid', 'uid_degree']\n",
    "        swing_df_score_filtered_merged_degree = pd.merge(swing_df_score_filtered, uid_degree_df, on='uid')\n",
    "\n",
    "        swing_df_score_filtered_degree_filtered = swing_df_score_filtered_merged_degree[swing_df_score_filtered_merged_degree.uid_degree < UID_DEGREE_THRESHOLD]\n",
    "\n",
    "        ##Merge with uid to url mapping\n",
    "        #Merge swing_0_to_2M_df_filter_self_connections with uid_df\n",
    "        swing_df_score_filtered_degree_filtered_uid_merged = pd.merge(swing_df_score_filtered_degree_filtered, uid_df, left_on='uid', right_on='uid')\n",
    "        swing_df_score_filtered_degree_final = pd.merge(swing_df_score_filtered_degree_filtered_uid_merged, uid_df, left_on='tid', right_on='uid')\n",
    "        del swing_df_score_filtered_degree_final['uid_y']\n",
    "        return swing_df_score_filtered_degree_final\n",
    "\n"
   ]
  },
  {
   "cell_type": "code",
   "execution_count": 19,
   "metadata": {},
   "outputs": [],
   "source": [
    "SWING_SCORE_THRESHOLD = 0.01\n",
    "UID_DEGREE_THRESHOLD = 50\n",
    "\n",
    "swing_scores_df_0_to_2M_filtered = apply_filters_swing_df(swing_scores_df_0_to_2M, uid_degree_df, SWING_SCORE_THRESHOLD, UID_DEGREE_THRESHOLD)\n",
    "swing_scores_df_2M_to_4M_filtered = apply_filters_swing_df(swing_scores_df_2M_to_4M, uid_degree_df, SWING_SCORE_THRESHOLD, UID_DEGREE_THRESHOLD)\n",
    "swing_scores_df_4M_to_6M_filtered = apply_filters_swing_df(swing_scores_df_4M_to_6M, uid_degree_df, SWING_SCORE_THRESHOLD, UID_DEGREE_THRESHOLD)\n",
    "swing_scores_df_6M_to_8M_filtered = apply_filters_swing_df(swing_scores_df_6M_to_8M, uid_degree_df, SWING_SCORE_THRESHOLD, UID_DEGREE_THRESHOLD)"
   ]
  },
  {
   "cell_type": "code",
   "execution_count": 20,
   "metadata": {},
   "outputs": [],
   "source": [
    "swing_scores_df_all = pd.concat([swing_scores_df_0_to_2M_filtered, swing_scores_df_2M_to_4M_filtered, swing_scores_df_4M_to_6M_filtered, swing_scores_df_6M_to_8M_filtered])"
   ]
  },
  {
   "cell_type": "code",
   "execution_count": 21,
   "metadata": {},
   "outputs": [
    {
     "data": {
      "text/plain": [
       "22742316"
      ]
     },
     "execution_count": 21,
     "metadata": {},
     "output_type": "execute_result"
    }
   ],
   "source": [
    "len(swing_scores_df_all)"
   ]
  },
  {
   "cell_type": "code",
   "execution_count": 22,
   "metadata": {},
   "outputs": [],
   "source": [
    "#Drop duplicates of (uid, tid)\n",
    "swing_scores_df_all_deduped = swing_scores_df_all.drop_duplicates(subset=['uid_x', 'tid'], keep='first')"
   ]
  },
  {
   "cell_type": "code",
   "execution_count": 24,
   "metadata": {},
   "outputs": [
    {
     "data": {
      "text/plain": [
       "22742276"
      ]
     },
     "execution_count": 24,
     "metadata": {},
     "output_type": "execute_result"
    }
   ],
   "source": [
    "len(swing_scores_df_all_deduped)"
   ]
  },
  {
   "cell_type": "code",
   "execution_count": 25,
   "metadata": {},
   "outputs": [
    {
     "name": "stderr",
     "output_type": "stream",
     "text": [
      "/home/core/miniconda3/envs/simplex_new_env/lib/python3.7/site-packages/ipykernel_launcher.py:3: SettingWithCopyWarning: \n",
      "A value is trying to be set on a copy of a slice from a DataFrame.\n",
      "Try using .loc[row_indexer,col_indexer] = value instead\n",
      "\n",
      "See the caveats in the documentation: https://pandas.pydata.org/pandas-docs/stable/user_guide/indexing.html#returning-a-view-versus-a-copy\n",
      "  This is separate from the ipykernel package so we can avoid doing imports until\n"
     ]
    }
   ],
   "source": [
    "swing_scores_df_all_train = swing_scores_df_all[['uid_x', 'tid', 'score']]\n",
    "swing_scores_df_all_train.columns  = ['uid', 'tid', 'weight']\n",
    "swing_scores_df_all_train['weight']= 1.33"
   ]
  },
  {
   "cell_type": "code",
   "execution_count": 31,
   "metadata": {},
   "outputs": [],
   "source": [
    "##Intersection of swing_scores_df_all_train and train_set_df\n",
    "\n",
    "intersection_of_train_set_df_and_swing_scores_df_all_train = pd.merge(train_set_df, swing_scores_df_all_train, on= ('uid', 'tid'))"
   ]
  },
  {
   "cell_type": "code",
   "execution_count": 32,
   "metadata": {},
   "outputs": [
    {
     "data": {
      "text/plain": [
       "11409643"
      ]
     },
     "execution_count": 32,
     "metadata": {},
     "output_type": "execute_result"
    }
   ],
   "source": [
    "len(intersection_of_train_set_df_and_swing_scores_df_all_train)"
   ]
  },
  {
   "cell_type": "code",
   "execution_count": 26,
   "metadata": {},
   "outputs": [
    {
     "data": {
      "text/plain": [
       "22742316"
      ]
     },
     "execution_count": 26,
     "metadata": {},
     "output_type": "execute_result"
    }
   ],
   "source": [
    "len(swing_scores_df_all_train)"
   ]
  },
  {
   "cell_type": "code",
   "execution_count": 27,
   "metadata": {},
   "outputs": [],
   "source": [
    "#concat with train_set_df\n",
    "swing_df_train_set_df_merged_with_duplicates = pd.concat([train_set_df, swing_scores_df_all_train] )\n",
    "\n",
    "#Drop duplicates based on uid, tid keep = 'first'\n",
    "swing_df_train_set_df_merged = swing_df_train_set_df_merged_with_duplicates.drop_duplicates(subset=['uid', 'tid'], keep = 'first')"
   ]
  },
  {
   "cell_type": "code",
   "execution_count": 28,
   "metadata": {},
   "outputs": [
    {
     "name": "stderr",
     "output_type": "stream",
     "text": [
      "/home/core/miniconda3/envs/simplex_new_env/lib/python3.7/site-packages/pandas/core/generic.py:5516: SettingWithCopyWarning: \n",
      "A value is trying to be set on a copy of a slice from a DataFrame.\n",
      "Try using .loc[row_indexer,col_indexer] = value instead\n",
      "\n",
      "See the caveats in the documentation: https://pandas.pydata.org/pandas-docs/stable/user_guide/indexing.html#returning-a-view-versus-a-copy\n",
      "  self[name] = value\n"
     ]
    }
   ],
   "source": [
    "swing_df_train_set_df_merged.uid = swing_df_train_set_df_merged.uid.astype(int)\n",
    "swing_df_train_set_df_merged.tid = swing_df_train_set_df_merged.tid.astype(int)\n",
    "swing_df_train_set_df_merged.weight = swing_df_train_set_df_merged.weight.astype(float)"
   ]
  },
  {
   "cell_type": "code",
   "execution_count": 30,
   "metadata": {},
   "outputs": [
    {
     "data": {
      "text/plain": [
       "48721372"
      ]
     },
     "execution_count": 30,
     "metadata": {},
     "output_type": "execute_result"
    }
   ],
   "source": [
    "len(swing_df_train_set_df_merged)"
   ]
  },
  {
   "cell_type": "code",
   "execution_count": 29,
   "metadata": {},
   "outputs": [
    {
     "data": {
      "text/plain": [
       "7384054"
      ]
     },
     "execution_count": 29,
     "metadata": {},
     "output_type": "execute_result"
    }
   ],
   "source": [
    "swing_df_train_set_df_merged.tid.nunique()"
   ]
  },
  {
   "cell_type": "code",
   "execution_count": 53,
   "metadata": {},
   "outputs": [
    {
     "data": {
      "text/plain": [
       "7384053"
      ]
     },
     "execution_count": 53,
     "metadata": {},
     "output_type": "execute_result"
    }
   ],
   "source": [
    "max(swing_df_train_set_df_merged.tid)"
   ]
  },
  {
   "cell_type": "code",
   "execution_count": 59,
   "metadata": {},
   "outputs": [],
   "source": [
    "#Create edges from every uid to itself (Cross Edges)\n",
    "all_uids = sorted(swing_df_train_set_df_merged.uid.unique())\n",
    "cross_edges = list(zip(all_uids, all_uids))\n"
   ]
  },
  {
   "cell_type": "code",
   "execution_count": 63,
   "metadata": {},
   "outputs": [],
   "source": [
    "cross_edges_df = pd.DataFrame(cross_edges, columns=['uid', 'tid'])\n",
    "\n",
    "cross_edges_df.weight = 1.0 #Set weight to 1.0 for cross edges"
   ]
  },
  {
   "cell_type": "code",
   "execution_count": 65,
   "metadata": {},
   "outputs": [],
   "source": [
    "##Concat swing_df_train_set_df_merged and cross_edges_df\n",
    "swing_df_train_set_df_merged_with_cross_edges = pd.concat([swing_df_train_set_df_merged, cross_edges_df])"
   ]
  },
  {
   "cell_type": "code",
   "execution_count": 66,
   "metadata": {},
   "outputs": [
    {
     "data": {
      "text/html": [
       "<div>\n",
       "<style scoped>\n",
       "    .dataframe tbody tr th:only-of-type {\n",
       "        vertical-align: middle;\n",
       "    }\n",
       "\n",
       "    .dataframe tbody tr th {\n",
       "        vertical-align: top;\n",
       "    }\n",
       "\n",
       "    .dataframe thead th {\n",
       "        text-align: right;\n",
       "    }\n",
       "</style>\n",
       "<table border=\"1\" class=\"dataframe\">\n",
       "  <thead>\n",
       "    <tr style=\"text-align: right;\">\n",
       "      <th></th>\n",
       "      <th>uid</th>\n",
       "      <th>tid</th>\n",
       "      <th>weight</th>\n",
       "    </tr>\n",
       "  </thead>\n",
       "  <tbody>\n",
       "    <tr>\n",
       "      <th>0</th>\n",
       "      <td>1</td>\n",
       "      <td>3433646</td>\n",
       "      <td>1.09861</td>\n",
       "    </tr>\n",
       "    <tr>\n",
       "      <th>1</th>\n",
       "      <td>100</td>\n",
       "      <td>1953971</td>\n",
       "      <td>1.09861</td>\n",
       "    </tr>\n",
       "    <tr>\n",
       "      <th>2</th>\n",
       "      <td>100</td>\n",
       "      <td>1957602</td>\n",
       "      <td>1.09861</td>\n",
       "    </tr>\n",
       "    <tr>\n",
       "      <th>3</th>\n",
       "      <td>100</td>\n",
       "      <td>2422703</td>\n",
       "      <td>1.09861</td>\n",
       "    </tr>\n",
       "    <tr>\n",
       "      <th>4</th>\n",
       "      <td>100</td>\n",
       "      <td>2999049</td>\n",
       "      <td>1.09861</td>\n",
       "    </tr>\n",
       "    <tr>\n",
       "      <th>...</th>\n",
       "      <td>...</td>\n",
       "      <td>...</td>\n",
       "      <td>...</td>\n",
       "    </tr>\n",
       "    <tr>\n",
       "      <th>7384049</th>\n",
       "      <td>7384049</td>\n",
       "      <td>7384049</td>\n",
       "      <td>NaN</td>\n",
       "    </tr>\n",
       "    <tr>\n",
       "      <th>7384050</th>\n",
       "      <td>7384050</td>\n",
       "      <td>7384050</td>\n",
       "      <td>NaN</td>\n",
       "    </tr>\n",
       "    <tr>\n",
       "      <th>7384051</th>\n",
       "      <td>7384051</td>\n",
       "      <td>7384051</td>\n",
       "      <td>NaN</td>\n",
       "    </tr>\n",
       "    <tr>\n",
       "      <th>7384052</th>\n",
       "      <td>7384052</td>\n",
       "      <td>7384052</td>\n",
       "      <td>NaN</td>\n",
       "    </tr>\n",
       "    <tr>\n",
       "      <th>7384053</th>\n",
       "      <td>7384053</td>\n",
       "      <td>7384053</td>\n",
       "      <td>NaN</td>\n",
       "    </tr>\n",
       "  </tbody>\n",
       "</table>\n",
       "<p>56105426 rows × 3 columns</p>\n",
       "</div>"
      ],
      "text/plain": [
       "             uid      tid   weight\n",
       "0              1  3433646  1.09861\n",
       "1            100  1953971  1.09861\n",
       "2            100  1957602  1.09861\n",
       "3            100  2422703  1.09861\n",
       "4            100  2999049  1.09861\n",
       "...          ...      ...      ...\n",
       "7384049  7384049  7384049      NaN\n",
       "7384050  7384050  7384050      NaN\n",
       "7384051  7384051  7384051      NaN\n",
       "7384052  7384052  7384052      NaN\n",
       "7384053  7384053  7384053      NaN\n",
       "\n",
       "[56105426 rows x 3 columns]"
      ]
     },
     "execution_count": 66,
     "metadata": {},
     "output_type": "execute_result"
    }
   ],
   "source": [
    "swing_df_train_set_df_merged_with_cross_edges"
   ]
  },
  {
   "cell_type": "code",
   "execution_count": 67,
   "metadata": {},
   "outputs": [],
   "source": [
    "swing_df_train_set_df_merged.to_csv(\"with_cross_edges_deduped_swing_df_train_set_df_merged_swing_threshold_001_uid_degree_less_than_50.csv\", index=False, header=False)"
   ]
  },
  {
   "cell_type": "code",
   "execution_count": 64,
   "metadata": {},
   "outputs": [
    {
     "data": {
      "text/html": [
       "<div>\n",
       "<style scoped>\n",
       "    .dataframe tbody tr th:only-of-type {\n",
       "        vertical-align: middle;\n",
       "    }\n",
       "\n",
       "    .dataframe tbody tr th {\n",
       "        vertical-align: top;\n",
       "    }\n",
       "\n",
       "    .dataframe thead th {\n",
       "        text-align: right;\n",
       "    }\n",
       "</style>\n",
       "<table border=\"1\" class=\"dataframe\">\n",
       "  <thead>\n",
       "    <tr style=\"text-align: right;\">\n",
       "      <th></th>\n",
       "      <th>uid</th>\n",
       "      <th>tid</th>\n",
       "      <th>weight</th>\n",
       "    </tr>\n",
       "  </thead>\n",
       "  <tbody>\n",
       "    <tr>\n",
       "      <th>0</th>\n",
       "      <td>1</td>\n",
       "      <td>3433646</td>\n",
       "      <td>1.09861</td>\n",
       "    </tr>\n",
       "    <tr>\n",
       "      <th>1</th>\n",
       "      <td>100</td>\n",
       "      <td>1953971</td>\n",
       "      <td>1.09861</td>\n",
       "    </tr>\n",
       "    <tr>\n",
       "      <th>2</th>\n",
       "      <td>100</td>\n",
       "      <td>1957602</td>\n",
       "      <td>1.09861</td>\n",
       "    </tr>\n",
       "    <tr>\n",
       "      <th>3</th>\n",
       "      <td>100</td>\n",
       "      <td>2422703</td>\n",
       "      <td>1.09861</td>\n",
       "    </tr>\n",
       "    <tr>\n",
       "      <th>4</th>\n",
       "      <td>100</td>\n",
       "      <td>2999049</td>\n",
       "      <td>1.09861</td>\n",
       "    </tr>\n",
       "    <tr>\n",
       "      <th>...</th>\n",
       "      <td>...</td>\n",
       "      <td>...</td>\n",
       "      <td>...</td>\n",
       "    </tr>\n",
       "    <tr>\n",
       "      <th>4163259</th>\n",
       "      <td>7384046</td>\n",
       "      <td>2939456</td>\n",
       "      <td>1.33000</td>\n",
       "    </tr>\n",
       "    <tr>\n",
       "      <th>4163262</th>\n",
       "      <td>7384050</td>\n",
       "      <td>2174252</td>\n",
       "      <td>1.33000</td>\n",
       "    </tr>\n",
       "    <tr>\n",
       "      <th>4163264</th>\n",
       "      <td>7384050</td>\n",
       "      <td>3804551</td>\n",
       "      <td>1.33000</td>\n",
       "    </tr>\n",
       "    <tr>\n",
       "      <th>4163273</th>\n",
       "      <td>7384053</td>\n",
       "      <td>3773208</td>\n",
       "      <td>1.33000</td>\n",
       "    </tr>\n",
       "    <tr>\n",
       "      <th>4163274</th>\n",
       "      <td>7384053</td>\n",
       "      <td>1937381</td>\n",
       "      <td>1.33000</td>\n",
       "    </tr>\n",
       "  </tbody>\n",
       "</table>\n",
       "<p>48721372 rows × 3 columns</p>\n",
       "</div>"
      ],
      "text/plain": [
       "             uid      tid   weight\n",
       "0              1  3433646  1.09861\n",
       "1            100  1953971  1.09861\n",
       "2            100  1957602  1.09861\n",
       "3            100  2422703  1.09861\n",
       "4            100  2999049  1.09861\n",
       "...          ...      ...      ...\n",
       "4163259  7384046  2939456  1.33000\n",
       "4163262  7384050  2174252  1.33000\n",
       "4163264  7384050  3804551  1.33000\n",
       "4163273  7384053  3773208  1.33000\n",
       "4163274  7384053  1937381  1.33000\n",
       "\n",
       "[48721372 rows x 3 columns]"
      ]
     },
     "execution_count": 64,
     "metadata": {},
     "output_type": "execute_result"
    }
   ],
   "source": [
    "swing_df_train_set_df_merged"
   ]
  },
  {
   "cell_type": "markdown",
   "metadata": {},
   "source": [
    "### Plot Distribution of Swing Scores"
   ]
  },
  {
   "cell_type": "code",
   "execution_count": 75,
   "metadata": {},
   "outputs": [
    {
     "name": "stdout",
     "output_type": "stream",
     "text": [
      "Swing score distribution\n",
      "Min of swing score distribution:  0.010000000000000002\n",
      "Max of swing score distribution:  3013.315397216897\n",
      "Mean of swing score distribution:  0.33621678826181917\n",
      "25th percentile of swing score distribution:  0.019179867456702807\n",
      "Median of swing score distribution:  0.044031992826661766\n",
      "75th percentile of swing score distribution:  0.14472304166718053\n",
      "90th percentile of swing score distribution:  0.4336556411488997\n",
      "95th percentile of swing score distribution:  0.8342276850789766\n"
     ]
    }
   ],
   "source": [
    "swing_score_distribution = swing_scores_df_all.score\n",
    "\n",
    "print(\"Swing score distribution\")\n",
    "print(\"Min of swing score distribution: \", swing_score_distribution.min())\n",
    "print(\"Max of swing score distribution: \", swing_score_distribution.max())\n",
    "print(\"Mean of swing score distribution: \", swing_score_distribution.mean())\n",
    "\n",
    "\n",
    "print(\"25th percentile of swing score distribution: \", swing_score_distribution.quantile(0.25))\n",
    "print(\"Median of swing score distribution: \", swing_score_distribution.median())\n",
    "print(\"75th percentile of swing score distribution: \", swing_score_distribution.quantile(0.75))\n",
    "print(\"90th percentile of swing score distribution: \", swing_score_distribution.quantile(0.90))\n",
    "print(\"95th percentile of swing score distribution: \", np.percentile(swing_score_distribution, 95))\n"
   ]
  },
  {
   "cell_type": "code",
   "execution_count": 80,
   "metadata": {},
   "outputs": [
    {
     "name": "stderr",
     "output_type": "stream",
     "text": [
      "/home/core/miniconda3/envs/simplex_new_env/lib/python3.7/site-packages/ipykernel_launcher.py:2: FutureWarning: Passing a negative integer is deprecated in version 1.0 and will not be supported in future version. Instead, use None to not limit the column width.\n",
      "  \n"
     ]
    }
   ],
   "source": [
    "##pd string no display width\n",
    "pd.set_option('display.max_colwidth', -1)"
   ]
  },
  {
   "cell_type": "code",
   "execution_count": 82,
   "metadata": {},
   "outputs": [
    {
     "data": {
      "text/html": [
       "<div>\n",
       "<style scoped>\n",
       "    .dataframe tbody tr th:only-of-type {\n",
       "        vertical-align: middle;\n",
       "    }\n",
       "\n",
       "    .dataframe tbody tr th {\n",
       "        vertical-align: top;\n",
       "    }\n",
       "\n",
       "    .dataframe thead th {\n",
       "        text-align: right;\n",
       "    }\n",
       "</style>\n",
       "<table border=\"1\" class=\"dataframe\">\n",
       "  <thead>\n",
       "    <tr style=\"text-align: right;\">\n",
       "      <th></th>\n",
       "      <th>uid_x</th>\n",
       "      <th>tid</th>\n",
       "      <th>score</th>\n",
       "      <th>uid_degree</th>\n",
       "      <th>url_x</th>\n",
       "      <th>url_y</th>\n",
       "    </tr>\n",
       "  </thead>\n",
       "  <tbody>\n",
       "    <tr>\n",
       "      <th>2522905</th>\n",
       "      <td>4066717</td>\n",
       "      <td>2867432</td>\n",
       "      <td>0.033074</td>\n",
       "      <td>793</td>\n",
       "      <td>https://desk.3gbizhi.com/</td>\n",
       "      <td>https://www.bilibili.com/index.php</td>\n",
       "    </tr>\n",
       "    <tr>\n",
       "      <th>3047771</th>\n",
       "      <td>5140406</td>\n",
       "      <td>2046696</td>\n",
       "      <td>0.027948</td>\n",
       "      <td>460</td>\n",
       "      <td>https://www.njlottery.com/</td>\n",
       "      <td>https://bible.usccb.org/daily-bible-reading</td>\n",
       "    </tr>\n",
       "    <tr>\n",
       "      <th>2828147</th>\n",
       "      <td>3987637</td>\n",
       "      <td>5563446</td>\n",
       "      <td>0.194526</td>\n",
       "      <td>75</td>\n",
       "      <td>https://bme.buaa.edu.cn/teacherInfo.aspx?catID=7&amp;subcatID=35&amp;curID=9922</td>\n",
       "      <td>http://ia.cas.cn/sourcedb_ia_cas/cn/iaexpert/200908/t20090804_2310535.html</td>\n",
       "    </tr>\n",
       "    <tr>\n",
       "      <th>3850087</th>\n",
       "      <td>4042608</td>\n",
       "      <td>2876506</td>\n",
       "      <td>0.028463</td>\n",
       "      <td>809</td>\n",
       "      <td>https://connect.facebook.com/</td>\n",
       "      <td>https://www.bilibili.com/video/BV1Jy4y1W7SN/</td>\n",
       "    </tr>\n",
       "    <tr>\n",
       "      <th>3691214</th>\n",
       "      <td>4785999</td>\n",
       "      <td>5174334</td>\n",
       "      <td>0.066804</td>\n",
       "      <td>51</td>\n",
       "      <td>https://www.cnblogs.com/Lints/p/11506902.html</td>\n",
       "      <td>https://www.php.cn/mysql-tutorials-442866.html</td>\n",
       "    </tr>\n",
       "    <tr>\n",
       "      <th>2738310</th>\n",
       "      <td>4943801</td>\n",
       "      <td>2853988</td>\n",
       "      <td>0.131349</td>\n",
       "      <td>687</td>\n",
       "      <td>https://www.google.co.za/</td>\n",
       "      <td>https://www.bandlab.com/</td>\n",
       "    </tr>\n",
       "    <tr>\n",
       "      <th>2742836</th>\n",
       "      <td>3307781</td>\n",
       "      <td>5641221</td>\n",
       "      <td>0.010223</td>\n",
       "      <td>885</td>\n",
       "      <td>https://www.onlinedown.net/soft/3610.htm</td>\n",
       "      <td>http://www.uqidong.com/uefi.html</td>\n",
       "    </tr>\n",
       "    <tr>\n",
       "      <th>4216772</th>\n",
       "      <td>6953492</td>\n",
       "      <td>5108579</td>\n",
       "      <td>0.048113</td>\n",
       "      <td>274</td>\n",
       "      <td>https://www.mlb.com/dodgers</td>\n",
       "      <td>https://www.mlb.com/dodgers/ballpark/information/guide</td>\n",
       "    </tr>\n",
       "    <tr>\n",
       "      <th>5479298</th>\n",
       "      <td>4820449</td>\n",
       "      <td>6933134</td>\n",
       "      <td>0.188509</td>\n",
       "      <td>146</td>\n",
       "      <td>https://www.curseforge.com/minecraft/modpacks</td>\n",
       "      <td>https://www.mcmod.cn/modpack/186.html</td>\n",
       "    </tr>\n",
       "    <tr>\n",
       "      <th>1577926</th>\n",
       "      <td>5465893</td>\n",
       "      <td>7372106</td>\n",
       "      <td>0.230621</td>\n",
       "      <td>891</td>\n",
       "      <td>https://zhidao.baidu.com/question/1957721455356528740.html</td>\n",
       "      <td>https://zhuanlan.zhihu.com/p/481745690</td>\n",
       "    </tr>\n",
       "    <tr>\n",
       "      <th>745177</th>\n",
       "      <td>6463086</td>\n",
       "      <td>3420565</td>\n",
       "      <td>0.014558</td>\n",
       "      <td>579</td>\n",
       "      <td>https://w.xkyn.com/art/tiffany%E8%92%82%E8%8A%99%E5%B0%BC%E6%97%97%E8%88%B0%E5%AE%98%E7%BD%91.htm</td>\n",
       "      <td>https://www.speedtest.cn/</td>\n",
       "    </tr>\n",
       "    <tr>\n",
       "      <th>672319</th>\n",
       "      <td>2294646</td>\n",
       "      <td>7277811</td>\n",
       "      <td>0.090821</td>\n",
       "      <td>717</td>\n",
       "      <td>https://fanqienovel.com/</td>\n",
       "      <td>https://www.zhihu.com/topic/19841035</td>\n",
       "    </tr>\n",
       "    <tr>\n",
       "      <th>3675606</th>\n",
       "      <td>3446579</td>\n",
       "      <td>3495555</td>\n",
       "      <td>0.012782</td>\n",
       "      <td>163</td>\n",
       "      <td>https://www.terra.com.br/noticias/</td>\n",
       "      <td>https://www.verdinhoitabuna.blog.br/</td>\n",
       "    </tr>\n",
       "    <tr>\n",
       "      <th>1780994</th>\n",
       "      <td>5559583</td>\n",
       "      <td>3170651</td>\n",
       "      <td>0.051435</td>\n",
       "      <td>656</td>\n",
       "      <td>http://gerensuodeshui.cn/</td>\n",
       "      <td>https://www.jianshu.com/p/3bf3f9c89c4c</td>\n",
       "    </tr>\n",
       "    <tr>\n",
       "      <th>3313713</th>\n",
       "      <td>7085782</td>\n",
       "      <td>3393331</td>\n",
       "      <td>0.018818</td>\n",
       "      <td>74</td>\n",
       "      <td>https://www.service-public.fr/particuliers/vosdroits/F8</td>\n",
       "      <td>https://www.service-public.fr/particuliers/vosdroits/R1281</td>\n",
       "    </tr>\n",
       "    <tr>\n",
       "      <th>1503307</th>\n",
       "      <td>7250717</td>\n",
       "      <td>1462427</td>\n",
       "      <td>0.033662</td>\n",
       "      <td>429</td>\n",
       "      <td>https://www.zdic.net/hans/%E5%86%8D%E4%B8%89%E5%86%8D%E5%9B%9B</td>\n",
       "      <td>https://www.onlinedown.net/zt/2992/</td>\n",
       "    </tr>\n",
       "    <tr>\n",
       "      <th>2106153</th>\n",
       "      <td>2408689</td>\n",
       "      <td>2882589</td>\n",
       "      <td>0.020720</td>\n",
       "      <td>372</td>\n",
       "      <td>https://jingyan.baidu.com/article/aa6a2c14bbabd90d4c19c4e3.html</td>\n",
       "      <td>https://www.bilibili.com/video/BV1ux41147Eh/</td>\n",
       "    </tr>\n",
       "    <tr>\n",
       "      <th>4194572</th>\n",
       "      <td>92079</td>\n",
       "      <td>663973</td>\n",
       "      <td>0.057436</td>\n",
       "      <td>62</td>\n",
       "      <td>http://www.mtime.com/</td>\n",
       "      <td>https://movie.douban.com/subject/30165311/?from=subject-page</td>\n",
       "    </tr>\n",
       "    <tr>\n",
       "      <th>1297820</th>\n",
       "      <td>5069138</td>\n",
       "      <td>6204060</td>\n",
       "      <td>0.142218</td>\n",
       "      <td>689</td>\n",
       "      <td>https://www.liuxue86.com/topic/549096/</td>\n",
       "      <td>https://mumu.163.com/games/19318.html</td>\n",
       "    </tr>\n",
       "    <tr>\n",
       "      <th>5117128</th>\n",
       "      <td>3506984</td>\n",
       "      <td>3016898</td>\n",
       "      <td>0.049268</td>\n",
       "      <td>65</td>\n",
       "      <td>https://www.waon.net/</td>\n",
       "      <td>https://www.e-tax.nta.go.jp/</td>\n",
       "    </tr>\n",
       "    <tr>\n",
       "      <th>1634391</th>\n",
       "      <td>3874595</td>\n",
       "      <td>6513233</td>\n",
       "      <td>0.013678</td>\n",
       "      <td>584</td>\n",
       "      <td>https://baike.baidu.com/item/%E8%BF%B7%E4%BD%A0%E4%B8%96%E7%95%8C/19712389</td>\n",
       "      <td>https://www.aixswx.com/xs/25/25859/57458.html</td>\n",
       "    </tr>\n",
       "    <tr>\n",
       "      <th>5354350</th>\n",
       "      <td>543351</td>\n",
       "      <td>2387369</td>\n",
       "      <td>0.038520</td>\n",
       "      <td>110</td>\n",
       "      <td>https://itexamanswers.net/question/which-statement-is-true-about-dhcp-operation%E2%80%8B</td>\n",
       "      <td>https://itexamanswers.net/question/which-fhrp-implementation-is-a-nonproprietary-ipv4-only-election-protocol-with-limited-scalability</td>\n",
       "    </tr>\n",
       "    <tr>\n",
       "      <th>4527351</th>\n",
       "      <td>5943549</td>\n",
       "      <td>814903</td>\n",
       "      <td>0.060848</td>\n",
       "      <td>525</td>\n",
       "      <td>https://drive.google.com/drive/my-drive?hl=ja</td>\n",
       "      <td>https://smallpdf.com/jp/merge-pdf</td>\n",
       "    </tr>\n",
       "    <tr>\n",
       "      <th>1105296</th>\n",
       "      <td>6612406</td>\n",
       "      <td>2031021</td>\n",
       "      <td>0.111035</td>\n",
       "      <td>875</td>\n",
       "      <td>https://www.che168.com/</td>\n",
       "      <td>https://baike.baidu.com/item/BOSS/24456</td>\n",
       "    </tr>\n",
       "    <tr>\n",
       "      <th>4889514</th>\n",
       "      <td>5086943</td>\n",
       "      <td>3257812</td>\n",
       "      <td>0.103777</td>\n",
       "      <td>104</td>\n",
       "      <td>https://www.mcbbs.net/forum-mod-1.html</td>\n",
       "      <td>https://www.minecraftzw.com/category/modpack</td>\n",
       "    </tr>\n",
       "    <tr>\n",
       "      <th>2043367</th>\n",
       "      <td>3639716</td>\n",
       "      <td>2033044</td>\n",
       "      <td>0.150956</td>\n",
       "      <td>931</td>\n",
       "      <td>https://zhidao.baidu.com/question/937024211363745692.html</td>\n",
       "      <td>https://baike.baidu.com/item/root/73226</td>\n",
       "    </tr>\n",
       "    <tr>\n",
       "      <th>2917981</th>\n",
       "      <td>6070742</td>\n",
       "      <td>2207424</td>\n",
       "      <td>0.039405</td>\n",
       "      <td>122</td>\n",
       "      <td>https://indianbank.in/departments/internet-banking/#!!</td>\n",
       "      <td>https://customer-login.bajajfinserv.in/</td>\n",
       "    </tr>\n",
       "    <tr>\n",
       "      <th>1852212</th>\n",
       "      <td>3303210</td>\n",
       "      <td>6495347</td>\n",
       "      <td>0.129994</td>\n",
       "      <td>898</td>\n",
       "      <td>https://www.office26.com/officexiazai/office2019-download-20200126.html</td>\n",
       "      <td>https://www.52pojie.cn/thread-1208750-1-1.html</td>\n",
       "    </tr>\n",
       "    <tr>\n",
       "      <th>89541</th>\n",
       "      <td>5847869</td>\n",
       "      <td>4003356</td>\n",
       "      <td>0.120124</td>\n",
       "      <td>261</td>\n",
       "      <td>https://brainly.in/question/41395006</td>\n",
       "      <td>https://brainly.ph/question/17416980</td>\n",
       "    </tr>\n",
       "    <tr>\n",
       "      <th>4277178</th>\n",
       "      <td>2358634</td>\n",
       "      <td>1244525</td>\n",
       "      <td>0.260026</td>\n",
       "      <td>182</td>\n",
       "      <td>https://herbeauty.co/en/entertainment/the-most-beautiful-girl-in-the-world-is-only-10-years-old/</td>\n",
       "      <td>https://www.gettyimages.com/photos/little-girls-in-undies</td>\n",
       "    </tr>\n",
       "  </tbody>\n",
       "</table>\n",
       "</div>"
      ],
      "text/plain": [
       "           uid_x  \\\n",
       "2522905  4066717   \n",
       "3047771  5140406   \n",
       "2828147  3987637   \n",
       "3850087  4042608   \n",
       "3691214  4785999   \n",
       "2738310  4943801   \n",
       "2742836  3307781   \n",
       "4216772  6953492   \n",
       "5479298  4820449   \n",
       "1577926  5465893   \n",
       "745177   6463086   \n",
       "672319   2294646   \n",
       "3675606  3446579   \n",
       "1780994  5559583   \n",
       "3313713  7085782   \n",
       "1503307  7250717   \n",
       "2106153  2408689   \n",
       "4194572  92079     \n",
       "1297820  5069138   \n",
       "5117128  3506984   \n",
       "1634391  3874595   \n",
       "5354350  543351    \n",
       "4527351  5943549   \n",
       "1105296  6612406   \n",
       "4889514  5086943   \n",
       "2043367  3639716   \n",
       "2917981  6070742   \n",
       "1852212  3303210   \n",
       "89541    5847869   \n",
       "4277178  2358634   \n",
       "\n",
       "             tid  \\\n",
       "2522905  2867432   \n",
       "3047771  2046696   \n",
       "2828147  5563446   \n",
       "3850087  2876506   \n",
       "3691214  5174334   \n",
       "2738310  2853988   \n",
       "2742836  5641221   \n",
       "4216772  5108579   \n",
       "5479298  6933134   \n",
       "1577926  7372106   \n",
       "745177   3420565   \n",
       "672319   7277811   \n",
       "3675606  3495555   \n",
       "1780994  3170651   \n",
       "3313713  3393331   \n",
       "1503307  1462427   \n",
       "2106153  2882589   \n",
       "4194572  663973    \n",
       "1297820  6204060   \n",
       "5117128  3016898   \n",
       "1634391  6513233   \n",
       "5354350  2387369   \n",
       "4527351  814903    \n",
       "1105296  2031021   \n",
       "4889514  3257812   \n",
       "2043367  2033044   \n",
       "2917981  2207424   \n",
       "1852212  6495347   \n",
       "89541    4003356   \n",
       "4277178  1244525   \n",
       "\n",
       "            score  \\\n",
       "2522905  0.033074   \n",
       "3047771  0.027948   \n",
       "2828147  0.194526   \n",
       "3850087  0.028463   \n",
       "3691214  0.066804   \n",
       "2738310  0.131349   \n",
       "2742836  0.010223   \n",
       "4216772  0.048113   \n",
       "5479298  0.188509   \n",
       "1577926  0.230621   \n",
       "745177   0.014558   \n",
       "672319   0.090821   \n",
       "3675606  0.012782   \n",
       "1780994  0.051435   \n",
       "3313713  0.018818   \n",
       "1503307  0.033662   \n",
       "2106153  0.020720   \n",
       "4194572  0.057436   \n",
       "1297820  0.142218   \n",
       "5117128  0.049268   \n",
       "1634391  0.013678   \n",
       "5354350  0.038520   \n",
       "4527351  0.060848   \n",
       "1105296  0.111035   \n",
       "4889514  0.103777   \n",
       "2043367  0.150956   \n",
       "2917981  0.039405   \n",
       "1852212  0.129994   \n",
       "89541    0.120124   \n",
       "4277178  0.260026   \n",
       "\n",
       "         uid_degree  \\\n",
       "2522905  793          \n",
       "3047771  460          \n",
       "2828147  75           \n",
       "3850087  809          \n",
       "3691214  51           \n",
       "2738310  687          \n",
       "2742836  885          \n",
       "4216772  274          \n",
       "5479298  146          \n",
       "1577926  891          \n",
       "745177   579          \n",
       "672319   717          \n",
       "3675606  163          \n",
       "1780994  656          \n",
       "3313713  74           \n",
       "1503307  429          \n",
       "2106153  372          \n",
       "4194572  62           \n",
       "1297820  689          \n",
       "5117128  65           \n",
       "1634391  584          \n",
       "5354350  110          \n",
       "4527351  525          \n",
       "1105296  875          \n",
       "4889514  104          \n",
       "2043367  931          \n",
       "2917981  122          \n",
       "1852212  898          \n",
       "89541    261          \n",
       "4277178  182          \n",
       "\n",
       "                                                                                                     url_x  \\\n",
       "2522905  https://desk.3gbizhi.com/                                                                           \n",
       "3047771  https://www.njlottery.com/                                                                          \n",
       "2828147  https://bme.buaa.edu.cn/teacherInfo.aspx?catID=7&subcatID=35&curID=9922                             \n",
       "3850087  https://connect.facebook.com/                                                                       \n",
       "3691214  https://www.cnblogs.com/Lints/p/11506902.html                                                       \n",
       "2738310  https://www.google.co.za/                                                                           \n",
       "2742836  https://www.onlinedown.net/soft/3610.htm                                                            \n",
       "4216772  https://www.mlb.com/dodgers                                                                         \n",
       "5479298  https://www.curseforge.com/minecraft/modpacks                                                       \n",
       "1577926  https://zhidao.baidu.com/question/1957721455356528740.html                                          \n",
       "745177   https://w.xkyn.com/art/tiffany%E8%92%82%E8%8A%99%E5%B0%BC%E6%97%97%E8%88%B0%E5%AE%98%E7%BD%91.htm   \n",
       "672319   https://fanqienovel.com/                                                                            \n",
       "3675606  https://www.terra.com.br/noticias/                                                                  \n",
       "1780994  http://gerensuodeshui.cn/                                                                           \n",
       "3313713  https://www.service-public.fr/particuliers/vosdroits/F8                                             \n",
       "1503307  https://www.zdic.net/hans/%E5%86%8D%E4%B8%89%E5%86%8D%E5%9B%9B                                      \n",
       "2106153  https://jingyan.baidu.com/article/aa6a2c14bbabd90d4c19c4e3.html                                     \n",
       "4194572  http://www.mtime.com/                                                                               \n",
       "1297820  https://www.liuxue86.com/topic/549096/                                                              \n",
       "5117128  https://www.waon.net/                                                                               \n",
       "1634391  https://baike.baidu.com/item/%E8%BF%B7%E4%BD%A0%E4%B8%96%E7%95%8C/19712389                          \n",
       "5354350  https://itexamanswers.net/question/which-statement-is-true-about-dhcp-operation%E2%80%8B            \n",
       "4527351  https://drive.google.com/drive/my-drive?hl=ja                                                       \n",
       "1105296  https://www.che168.com/                                                                             \n",
       "4889514  https://www.mcbbs.net/forum-mod-1.html                                                              \n",
       "2043367  https://zhidao.baidu.com/question/937024211363745692.html                                           \n",
       "2917981  https://indianbank.in/departments/internet-banking/#!!                                              \n",
       "1852212  https://www.office26.com/officexiazai/office2019-download-20200126.html                             \n",
       "89541    https://brainly.in/question/41395006                                                                \n",
       "4277178  https://herbeauty.co/en/entertainment/the-most-beautiful-girl-in-the-world-is-only-10-years-old/    \n",
       "\n",
       "                                                                                                                                         url_y  \n",
       "2522905  https://www.bilibili.com/index.php                                                                                                     \n",
       "3047771  https://bible.usccb.org/daily-bible-reading                                                                                            \n",
       "2828147  http://ia.cas.cn/sourcedb_ia_cas/cn/iaexpert/200908/t20090804_2310535.html                                                             \n",
       "3850087  https://www.bilibili.com/video/BV1Jy4y1W7SN/                                                                                           \n",
       "3691214  https://www.php.cn/mysql-tutorials-442866.html                                                                                         \n",
       "2738310  https://www.bandlab.com/                                                                                                               \n",
       "2742836  http://www.uqidong.com/uefi.html                                                                                                       \n",
       "4216772  https://www.mlb.com/dodgers/ballpark/information/guide                                                                                 \n",
       "5479298  https://www.mcmod.cn/modpack/186.html                                                                                                  \n",
       "1577926  https://zhuanlan.zhihu.com/p/481745690                                                                                                 \n",
       "745177   https://www.speedtest.cn/                                                                                                              \n",
       "672319   https://www.zhihu.com/topic/19841035                                                                                                   \n",
       "3675606  https://www.verdinhoitabuna.blog.br/                                                                                                   \n",
       "1780994  https://www.jianshu.com/p/3bf3f9c89c4c                                                                                                 \n",
       "3313713  https://www.service-public.fr/particuliers/vosdroits/R1281                                                                             \n",
       "1503307  https://www.onlinedown.net/zt/2992/                                                                                                    \n",
       "2106153  https://www.bilibili.com/video/BV1ux41147Eh/                                                                                           \n",
       "4194572  https://movie.douban.com/subject/30165311/?from=subject-page                                                                           \n",
       "1297820  https://mumu.163.com/games/19318.html                                                                                                  \n",
       "5117128  https://www.e-tax.nta.go.jp/                                                                                                           \n",
       "1634391  https://www.aixswx.com/xs/25/25859/57458.html                                                                                          \n",
       "5354350  https://itexamanswers.net/question/which-fhrp-implementation-is-a-nonproprietary-ipv4-only-election-protocol-with-limited-scalability  \n",
       "4527351  https://smallpdf.com/jp/merge-pdf                                                                                                      \n",
       "1105296  https://baike.baidu.com/item/BOSS/24456                                                                                                \n",
       "4889514  https://www.minecraftzw.com/category/modpack                                                                                           \n",
       "2043367  https://baike.baidu.com/item/root/73226                                                                                                \n",
       "2917981  https://customer-login.bajajfinserv.in/                                                                                                \n",
       "1852212  https://www.52pojie.cn/thread-1208750-1-1.html                                                                                         \n",
       "89541    https://brainly.ph/question/17416980                                                                                                   \n",
       "4277178  https://www.gettyimages.com/photos/little-girls-in-undies                                                                              "
      ]
     },
     "execution_count": 82,
     "metadata": {},
     "output_type": "execute_result"
    }
   ],
   "source": [
    "swing_scores_df_all.sample(30)"
   ]
  },
  {
   "cell_type": "code",
   "execution_count": null,
   "metadata": {},
   "outputs": [],
   "source": []
  },
  {
   "cell_type": "code",
   "execution_count": null,
   "metadata": {},
   "outputs": [],
   "source": []
  },
  {
   "cell_type": "code",
   "execution_count": 77,
   "metadata": {},
   "outputs": [],
   "source": [
    "##Swing degree threshold 50, score threshold 0.01\n",
    "\"\"\"\n",
    "SAVE_FILTERED_SWING_0_to_2M_PATH = '/home/core/shahjaidev/SWING/3d_0_to_2M_Swing_Threshold_001_Degree_Threshold_50.csv'\n",
    "swing_0_to_2M_df_train_merged_final.to_csv(SAVE_FILTERED_SWING_0_to_2M_PATH, index=False)\"\"\""
   ]
  },
  {
   "cell_type": "code",
   "execution_count": null,
   "metadata": {},
   "outputs": [],
   "source": []
  }
 ],
 "metadata": {
  "kernelspec": {
   "display_name": "Python 3.7.13 ('simplex_new_env')",
   "language": "python",
   "name": "python3"
  },
  "language_info": {
   "codemirror_mode": {
    "name": "ipython",
    "version": 3
   },
   "file_extension": ".py",
   "mimetype": "text/x-python",
   "name": "python",
   "nbconvert_exporter": "python",
   "pygments_lexer": "ipython3",
   "version": "3.7.13"
  },
  "orig_nbformat": 4,
  "vscode": {
   "interpreter": {
    "hash": "3ce08f4de8c2f760f9c45cbb81c50dbfe06ea08eef22a923656c1b4493a6c661"
   }
  }
 },
 "nbformat": 4,
 "nbformat_minor": 2
}
